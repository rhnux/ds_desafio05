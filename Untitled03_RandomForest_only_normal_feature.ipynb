{
 "cells": [
  {
   "cell_type": "code",
   "execution_count": 1,
   "metadata": {},
   "outputs": [],
   "source": [
    "import pandas as pd\n",
    "import numpy as np\n",
    "import re\n",
    "import matplotlib.pyplot as plt\n",
    "# multiclass classification\n",
    "import xgboost\n",
    "from sklearn import model_selection\n",
    "from sklearn.metrics import accuracy_score, classification_report, precision_score, mean_squared_error, r2_score\n",
    "from sklearn.preprocessing import LabelEncoder\n",
    "from sklearn.feature_extraction.text import TfidfVectorizer, TfidfTransformer, CountVectorizer\n",
    "from sklearn.feature_extraction import DictVectorizer\n",
    "from sklearn.model_selection import cross_validate\n",
    "from sklearn.ensemble import RandomForestRegressor, RandomForestClassifier\n",
    "from sklearn.model_selection import train_test_split\n",
    "from sklearn_pandas import DataFrameMapper, cross_val_score, features_generator\n",
    "from sklearn.pipeline import Pipeline"
   ]
  },
  {
   "cell_type": "code",
   "execution_count": 2,
   "metadata": {},
   "outputs": [],
   "source": [
    "df = pd.read_csv('data_book_clean.csv')"
   ]
  },
  {
   "cell_type": "code",
   "execution_count": 3,
   "metadata": {},
   "outputs": [
    {
     "name": "stdout",
     "output_type": "stream",
     "text": [
      "<class 'pandas.core.frame.DataFrame'>\n",
      "Int64Index: 6419 entries, 0 to 7182\n",
      "Data columns (total 21 columns):\n",
      "autor                  6419 non-null object\n",
      "cod_autor              6419 non-null float64\n",
      "cod_sello_editorial    6419 non-null int64\n",
      "coleccion              6419 non-null object\n",
      "contratapa             6376 non-null object\n",
      "digital                2242 non-null object\n",
      "fecha_nov              6419 non-null object\n",
      "genero_1               6419 non-null object\n",
      "idioma                 6419 non-null object\n",
      "isbn                   6419 non-null object\n",
      "matnr                  6419 non-null object\n",
      "medidas                4146 non-null object\n",
      "paginas                6171 non-null float64\n",
      "portada                6419 non-null object\n",
      "pvp                    6419 non-null float64\n",
      "region                 6419 non-null object\n",
      "sello_editorial        6419 non-null object\n",
      "sinopsis               6419 non-null object\n",
      "titulo                 6419 non-null object\n",
      "texto                  6419 non-null object\n",
      "normal                 6419 non-null object\n",
      "dtypes: float64(3), int64(1), object(17)\n",
      "memory usage: 1.1+ MB\n"
     ]
    }
   ],
   "source": [
    "df = df.drop(columns='Unnamed: 0')\n",
    "df = df[df['normal'].notnull()]\n",
    "df = df[df['sinopsis'].notnull()]\n",
    "df.info()"
   ]
  },
  {
   "cell_type": "code",
   "execution_count": 4,
   "metadata": {},
   "outputs": [],
   "source": [
    "df['genero_1'] = df.apply(lambda x: re.sub('ENSAYO POLITICO', 'ENSAYOS', x['genero_1']), axis=1)\n",
    "df['genero_1'] = df.apply(lambda x: re.sub('ENSAYO RELIGIOSO', 'ENSAYOS', x['genero_1']), axis=1)\n",
    "df['genero_1'] = df.apply(lambda x: re.sub('NOVELAS CHILENAS', 'NOVELAS EXTRANJERAS', x['genero_1']), axis=1)\n",
    "df['genero_1'] = df.apply(lambda x: re.sub('NOVELAS LATINOAMERICANAS', 'NOVELAS EXTRANJERAS', x['genero_1']), axis=1)\n",
    "df['genero_1'] = df.apply(lambda x: re.sub('CUENTOS EXTRANJEROS', 'CUENTOS', x['genero_1']), axis=1)\n",
    "df['genero_1'] = df.apply(lambda x: re.sub('CUENTOS LATINOAMERICANOS', 'CUENTOS', x['genero_1']), axis=1)\n",
    "df['genero_1'] = df.apply(lambda x: re.sub('CUENTOS ARGENTINOS', 'CUENTOS', x['genero_1']), axis=1)\n",
    "df['genero_1'] = df.apply(lambda x: re.sub('NARRATIVA BREVE', 'NARRATIVA', x['genero_1']), axis=1)\n",
    "df['genero_1'] = df.apply(lambda x: re.sub('NARRATIVA FEMENINA', 'NARRATIVA', x['genero_1']), axis=1)"
   ]
  },
  {
   "cell_type": "code",
   "execution_count": 5,
   "metadata": {},
   "outputs": [
    {
     "data": {
      "text/plain": [
       "ENSAYOS                   1109\n",
       "NOVELAS EXTRANJERAS        967\n",
       "INFANTILES                 770\n",
       "NARRATIVA                  565\n",
       "OBRAS DIVERSAS             484\n",
       "NOVELAS ARGENTINAS         451\n",
       "AUTOAYUDA                  379\n",
       "BIOGRAFIAS                 265\n",
       "NOVELA                     238\n",
       "JUVENILES                  201\n",
       "CUENTOS                    199\n",
       "FICCION                    175\n",
       "ENTRETENIMIENTO Y OCIO      89\n",
       "HISTORIA                    81\n",
       "SIN DET. ALFAGUARA          48\n",
       "NO FICCION                  48\n",
       "LITERATURA                  41\n",
       "GUIAS                       31\n",
       "POESIAS                     30\n",
       "CRONICA                     25\n",
       "ANTOLOGIAS                  24\n",
       "HUMOR                       18\n",
       "ESPIRITUALIDAD              17\n",
       "AUTOBIOGRAFIA               14\n",
       "NEGOCIOS                    13\n",
       "MEMORIAS                    13\n",
       "PERIODISMO                  13\n",
       "DICCIONARIO                 12\n",
       "COCINA                      12\n",
       "INVESTIGACION               12\n",
       "OBRAS DE REFERENCIA         11\n",
       "EPISTOLAR                   11\n",
       "COMICS                      10\n",
       "SIN DETERMINAR               6\n",
       "LIBROS ILUSTRADOS            5\n",
       "TEATRO                       5\n",
       "FOTOGRAFIAS                  4\n",
       "ALBUMES                      3\n",
       "EDUCACION                    3\n",
       "ENTREVISTAS                  3\n",
       "ESOTERISMO                   2\n",
       "COMIC                        2\n",
       "NOVELA ILUSTRADA             2\n",
       "DIARIO                       2\n",
       "ANIMALES                     1\n",
       "AFORISMO                     1\n",
       "CIENCIA                      1\n",
       "ECONOMIA                     1\n",
       "ARTE                         1\n",
       "SALUD                        1\n",
       "Name: genero_1, dtype: int64"
      ]
     },
     "execution_count": 5,
     "metadata": {},
     "output_type": "execute_result"
    }
   ],
   "source": [
    "df.genero_1.value_counts()"
   ]
  },
  {
   "cell_type": "code",
   "execution_count": 6,
   "metadata": {},
   "outputs": [
    {
     "data": {
      "text/plain": [
       "ENSAYOS                   1109\n",
       "NOVELAS EXTRANJERAS        967\n",
       "INFANTILES                 770\n",
       "NARRATIVA                  565\n",
       "OBRAS DIVERSAS             484\n",
       "NOVELAS ARGENTINAS         451\n",
       "AUTOAYUDA                  379\n",
       "BIOGRAFIAS                 265\n",
       "NOVELA                     238\n",
       "JUVENILES                  201\n",
       "CUENTOS                    199\n",
       "FICCION                    175\n",
       "ENTRETENIMIENTO Y OCIO      89\n",
       "HISTORIA                    81\n",
       "Name: genero_1, dtype: int64"
      ]
     },
     "execution_count": 6,
     "metadata": {},
     "output_type": "execute_result"
    }
   ],
   "source": [
    "dft01 = df.groupby('genero_1').filter(lambda x: x['genero_1'].count() > 80)\n",
    "dft01.genero_1.value_counts()"
   ]
  },
  {
   "cell_type": "code",
   "execution_count": 7,
   "metadata": {},
   "outputs": [],
   "source": [
    "dft02 = dft01[['sinopsis', 'titulo', 'texto', 'normal', 'genero_1']]"
   ]
  },
  {
   "cell_type": "code",
   "execution_count": 8,
   "metadata": {},
   "outputs": [],
   "source": [
    "y = LabelEncoder().fit_transform(dft02['genero_1'].values)\n",
    "#encoder = LabelEncoder()\n",
    "#encoder.fit(y)\n",
    "#categories = encoder.transform(y)\n",
    "\n",
    "#dfx = dft02[dft02.columns.drop(['genero_1'])]\n",
    "#dfx = dft02[['sinopsis', 'titulo', 'normal']]\n",
    "#X = dft02['normal'].values\n",
    "X = TfidfVectorizer(min_df=3).fit_transform(dft02['normal'].values)"
   ]
  },
  {
   "cell_type": "code",
   "execution_count": 9,
   "metadata": {},
   "outputs": [],
   "source": [
    "# split data into X and y\n",
    "seed = 7\n",
    "test_size = 0.2\n",
    "X_train, X_test, y_train, y_test = train_test_split(X, y, test_size=test_size, random_state=seed)"
   ]
  },
  {
   "cell_type": "code",
   "execution_count": 10,
   "metadata": {},
   "outputs": [
    {
     "name": "stdout",
     "output_type": "stream",
     "text": [
      "(4778, 23870)\n",
      "(1195, 23870)\n",
      "(4778,)\n",
      "(1195,)\n"
     ]
    }
   ],
   "source": [
    "print(X_train.shape)\n",
    "print(X_test.shape)\n",
    "print(y_train.shape)\n",
    "print(y_test.shape)"
   ]
  },
  {
   "cell_type": "code",
   "execution_count": 11,
   "metadata": {},
   "outputs": [],
   "source": [
    "#Model RandomForestRegressor #01     \n",
    "forest01 = RandomForestRegressor(n_estimators=500, criterion='mse', random_state=1, n_jobs=-1)\n",
    "forest01.fit(X_train, y_train)\n",
    "predicted = forest01.predict(X_test)"
   ]
  },
  {
   "cell_type": "code",
   "execution_count": 12,
   "metadata": {},
   "outputs": [],
   "source": [
    "y_pred = forest01.predict(X)"
   ]
  },
  {
   "cell_type": "code",
   "execution_count": 13,
   "metadata": {},
   "outputs": [],
   "source": [
    "y_test_pred = forest01.predict(X_test)"
   ]
  },
  {
   "cell_type": "code",
   "execution_count": 14,
   "metadata": {},
   "outputs": [
    {
     "name": "stdout",
     "output_type": "stream",
     "text": [
      "MSE train: 2.587, test: 8.117\n"
     ]
    }
   ],
   "source": [
    "print('MSE train: %.3f, test: %.3f' % (mean_squared_error(y, y_pred), mean_squared_error(y_test, y_test_pred)))"
   ]
  },
  {
   "cell_type": "code",
   "execution_count": 15,
   "metadata": {},
   "outputs": [
    {
     "name": "stdout",
     "output_type": "stream",
     "text": [
      "R^2 train: 0.854, test: 0.518\n"
     ]
    }
   ],
   "source": [
    "print('R^2 train: %.3f, test: %.3f' % (r2_score(y, y_pred), r2_score(y_test, y_test_pred)))"
   ]
  },
  {
   "cell_type": "code",
   "execution_count": 16,
   "metadata": {},
   "outputs": [
    {
     "data": {
      "image/png": "[encoded data removed]",
      "text/plain": [
       "<Figure size 432x288 with 1 Axes>"
      ]
     },
     "metadata": {},
     "output_type": "display_data"
    }
   ],
   "source": [
    "plt.scatter(y_pred, y_pred - y, c='black', marker='o', s=35, alpha=0.5, label='Training data')\n",
    "plt.scatter(y_test_pred, y_test_pred - y_test, c='lightgreen', marker='s', s=35, alpha=0.5, label='Test data')\n",
    "plt.xlabel('Predicted values')\n",
    "plt.ylabel('Residuals')\n",
    "plt.legend(loc='upper left')\n",
    "plt.hlines(y=0, xmin=-10, xmax=50, lw=2, color='red')\n",
    "plt.xlim([-10, 50])\n",
    "plt.show()"
   ]
  },
  {
   "cell_type": "code",
   "execution_count": 17,
   "metadata": {},
   "outputs": [],
   "source": [
    "#Model RandomForestClassifier #02     \n",
    "forest02 = RandomForestClassifier(n_estimators=500, random_state=1, n_jobs=-1)\n",
    "forest02.fit(X_train, y_train)\n",
    "predicted02 = forest02.predict(X_test)"
   ]
  },
  {
   "cell_type": "code",
   "execution_count": 18,
   "metadata": {},
   "outputs": [
    {
     "data": {
      "text/plain": [
       "0.7611052915467298"
      ]
     },
     "execution_count": 18,
     "metadata": {},
     "output_type": "execute_result"
    }
   ],
   "source": [
    "precision_score(y_test, predicted02, average='weighted')"
   ]
  },
  {
   "cell_type": "code",
   "execution_count": 19,
   "metadata": {},
   "outputs": [
    {
     "name": "stdout",
     "output_type": "stream",
     "text": [
      "             precision    recall  f1-score   support\n",
      "\n",
      "          0       0.87      0.79      0.83        67\n",
      "          1       0.80      0.33      0.46        49\n",
      "          2       0.85      0.56      0.68        41\n",
      "          3       0.69      0.92      0.79       213\n",
      "          4       1.00      0.67      0.80        12\n",
      "          5       0.71      0.12      0.21        40\n",
      "          6       1.00      0.37      0.54        19\n",
      "          7       0.81      0.98      0.88       156\n",
      "          8       1.00      0.26      0.41        47\n",
      "          9       0.86      0.37      0.52       129\n",
      "         10       0.73      0.20      0.32        54\n",
      "         11       0.91      0.62      0.74        85\n",
      "         12       0.45      0.92      0.61       195\n",
      "         13       0.93      0.59      0.72        88\n",
      "\n",
      "avg / total       0.76      0.68      0.66      1195\n",
      "\n"
     ]
    }
   ],
   "source": [
    "report = classification_report(y_test, predicted02)\n",
    "print(report)"
   ]
  },
  {
   "cell_type": "code",
   "execution_count": 20,
   "metadata": {},
   "outputs": [
    {
     "name": "stdout",
     "output_type": "stream",
     "text": [
      "Accuracy: 68.20%\n"
     ]
    }
   ],
   "source": [
    "print('Accuracy: %.2f%%' % (accuracy_score(y_test, predicted02) * 100))"
   ]
  },
  {
   "cell_type": "code",
   "execution_count": null,
   "metadata": {},
   "outputs": [],
   "source": []
  },
  {
   "cell_type": "code",
   "execution_count": null,
   "metadata": {},
   "outputs": [],
   "source": []
  }
 ],
 "metadata": {
  "kernelspec": {
   "display_name": "Python 3",
   "language": "python",
   "name": "python3"
  },
  "language_info": {
   "codemirror_mode": {
    "name": "ipython",
    "version": 3
   },
   "file_extension": ".py",
   "mimetype": "text/x-python",
   "name": "python",
   "nbconvert_exporter": "python",
   "pygments_lexer": "ipython3",
   "version": "3.6.6"
  },
  "varInspector": {
   "cols": {
    "lenName": 16,
    "lenType": 16,
    "lenVar": 40
   },
   "kernels_config": {
    "python": {
     "delete_cmd_postfix": "",
     "delete_cmd_prefix": "del ",
     "library": "var_list.py",
     "varRefreshCmd": "print(var_dic_list())"
    },
    "r": {
     "delete_cmd_postfix": ") ",
     "delete_cmd_prefix": "rm(",
     "library": "var_list.r",
     "varRefreshCmd": "cat(var_dic_list()) "
    }
   },
   "types_to_exclude": [
    "module",
    "function",
    "builtin_function_or_method",
    "instance",
    "_Feature"
   ],
   "window_display": true
  }
 },
 "nbformat": 4,
 "nbformat_minor": 2
}
