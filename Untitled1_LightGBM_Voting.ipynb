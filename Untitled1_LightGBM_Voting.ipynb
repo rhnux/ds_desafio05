{
 "cells": [
  {
   "cell_type": "code",
   "execution_count": 1,
   "metadata": {},
   "outputs": [],
   "source": [
    "import pandas as pd\n",
    "import numpy as np\n",
    "import re\n",
    "import matplotlib.pyplot as plt\n",
    "# multiclass classification\n",
    "import lightgbm as lgb\n",
    "from catboost import CatBoostClassifier\n",
    "from xgboost.sklearn import XGBClassifier \n",
    "from sklearn import model_selection\n",
    "from sklearn.metrics import accuracy_score, classification_report, precision_score, mean_squared_error, r2_score, confusion_matrix\n",
    "from sklearn.preprocessing import LabelEncoder\n",
    "from sklearn.feature_extraction.text import TfidfVectorizer, TfidfTransformer, CountVectorizer\n",
    "from sklearn.feature_extraction import DictVectorizer\n",
    "from sklearn.model_selection import cross_validate, RandomizedSearchCV, GridSearchCV, train_test_split\n",
    "from sklearn.ensemble import RandomForestRegressor, RandomForestClassifier\n",
    "from sklearn_pandas import DataFrameMapper, cross_val_score, features_generator, gen_features\n",
    "from sklearn.pipeline import Pipeline\n",
    "import seaborn as sns\n",
    "import scipy.stats as st\n",
    "import time"
   ]
  },
  {
   "cell_type": "code",
   "execution_count": 2,
   "metadata": {},
   "outputs": [],
   "source": [
    "df = pd.read_csv('data_book_clean.csv')"
   ]
  },
  {
   "cell_type": "code",
   "execution_count": 3,
   "metadata": {},
   "outputs": [
    {
     "name": "stdout",
     "output_type": "stream",
     "text": [
      "<class 'pandas.core.frame.DataFrame'>\n",
      "Int64Index: 6419 entries, 0 to 7182\n",
      "Data columns (total 21 columns):\n",
      "autor                  6419 non-null object\n",
      "cod_autor              6419 non-null float64\n",
      "cod_sello_editorial    6419 non-null int64\n",
      "coleccion              6419 non-null object\n",
      "contratapa             6376 non-null object\n",
      "digital                2242 non-null object\n",
      "fecha_nov              6419 non-null object\n",
      "genero_1               6419 non-null object\n",
      "idioma                 6419 non-null object\n",
      "isbn                   6419 non-null object\n",
      "matnr                  6419 non-null object\n",
      "medidas                4146 non-null object\n",
      "paginas                6171 non-null float64\n",
      "portada                6419 non-null object\n",
      "pvp                    6419 non-null float64\n",
      "region                 6419 non-null object\n",
      "sello_editorial        6419 non-null object\n",
      "sinopsis               6419 non-null object\n",
      "titulo                 6419 non-null object\n",
      "texto                  6419 non-null object\n",
      "normal                 6419 non-null object\n",
      "dtypes: float64(3), int64(1), object(17)\n",
      "memory usage: 1.1+ MB\n"
     ]
    }
   ],
   "source": [
    "df = df.drop(columns='Unnamed: 0')\n",
    "df = df[df['normal'].notnull()]\n",
    "df = df[df['sinopsis'].notnull()]\n",
    "df.info()"
   ]
  },
  {
   "cell_type": "code",
   "execution_count": 4,
   "metadata": {},
   "outputs": [],
   "source": [
    "df['genero_1'] = df.apply(lambda x: re.sub('ENSAYO POLITICO', 'ENSAYOS', x['genero_1']), axis=1)\n",
    "df['genero_1'] = df.apply(lambda x: re.sub('ENSAYO RELIGIOSO', 'ENSAYOS', x['genero_1']), axis=1)\n",
    "df['genero_1'] = df.apply(lambda x: re.sub('NOVELAS CHILENAS', 'NOVELA', x['genero_1']), axis=1)\n",
    "df['genero_1'] = df.apply(lambda x: re.sub('NOVELAS LATINOAMERICANAS', 'NOVELA', x['genero_1']), axis=1)\n",
    "df['genero_1'] = df.apply(lambda x: re.sub('CUENTOS EXTRANJEROS', 'CUENTOS', x['genero_1']), axis=1)\n",
    "df['genero_1'] = df.apply(lambda x: re.sub('CUENTOS LATINOAMERICANOS', 'CUENTOS', x['genero_1']), axis=1)\n",
    "df['genero_1'] = df.apply(lambda x: re.sub('CUENTOS ARGENTINOS', 'CUENTOS', x['genero_1']), axis=1)\n",
    "df['genero_1'] = df.apply(lambda x: re.sub('NARRATIVA BREVE', 'NARRATIVA', x['genero_1']), axis=1)\n",
    "df['genero_1'] = df.apply(lambda x: re.sub('NARRATIVA FEMENINA', 'NARRATIVA', x['genero_1']), axis=1)\n",
    "df['genero_1'] = df.apply(lambda x: re.sub('NOVELAS ARGENTINAS', 'NOVELA', x['genero_1']), axis=1)\n",
    "df['genero_1'] = df.apply(lambda x: re.sub('NOVELAS EXTRANJERAS', 'NOVELA', x['genero_1']), axis=1)\n",
    "df['genero_1'] = df.apply(lambda x: re.sub('ENTRETENIMIENTO Y OCIO', 'OBRAS DIVERSAS', x['genero_1']), axis=1)\n",
    "df['genero_1'] = df.apply(lambda x: re.sub('HISTORIA', 'OBRAS DIVERSAS', x['genero_1']), axis=1)"
   ]
  },
  {
   "cell_type": "code",
   "execution_count": 5,
   "metadata": {},
   "outputs": [
    {
     "data": {
      "text/html": [
       "<div>\n",
       "<style scoped>\n",
       "    .dataframe tbody tr th:only-of-type {\n",
       "        vertical-align: middle;\n",
       "    }\n",
       "\n",
       "    .dataframe tbody tr th {\n",
       "        vertical-align: top;\n",
       "    }\n",
       "\n",
       "    .dataframe thead th {\n",
       "        text-align: right;\n",
       "    }\n",
       "</style>\n",
       "<table border=\"1\" class=\"dataframe\">\n",
       "  <thead>\n",
       "    <tr style=\"text-align: right;\">\n",
       "      <th></th>\n",
       "      <th>autor</th>\n",
       "      <th>cod_autor</th>\n",
       "      <th>cod_sello_editorial</th>\n",
       "      <th>coleccion</th>\n",
       "      <th>contratapa</th>\n",
       "      <th>digital</th>\n",
       "      <th>fecha_nov</th>\n",
       "      <th>genero_1</th>\n",
       "      <th>idioma</th>\n",
       "      <th>isbn</th>\n",
       "      <th>...</th>\n",
       "      <th>medidas</th>\n",
       "      <th>paginas</th>\n",
       "      <th>portada</th>\n",
       "      <th>pvp</th>\n",
       "      <th>region</th>\n",
       "      <th>sello_editorial</th>\n",
       "      <th>sinopsis</th>\n",
       "      <th>titulo</th>\n",
       "      <th>texto</th>\n",
       "      <th>normal</th>\n",
       "    </tr>\n",
       "  </thead>\n",
       "  <tbody>\n",
       "    <tr>\n",
       "      <th>5052</th>\n",
       "      <td>John Katzenbach</td>\n",
       "      <td>34820.0</td>\n",
       "      <td>200</td>\n",
       "      <td>LA TRAMA</td>\n",
       "      <td>«Feliz aniversario, doctor. Bienvenido al prim...</td>\n",
       "      <td>NaN</td>\n",
       "      <td>1970-01-01 00:00:00.020090909</td>\n",
       "      <td>FICCION</td>\n",
       "      <td>ES</td>\n",
       "      <td>9788466642095</td>\n",
       "      <td>...</td>\n",
       "      <td>15.0 X 23.0 X 3.5</td>\n",
       "      <td>528.0</td>\n",
       "      <td>http://static.megustaleer.com.ar/images/libros...</td>\n",
       "      <td>529.0</td>\n",
       "      <td>AR</td>\n",
       "      <td>EDICIONES B</td>\n",
       "      <td>John Katzenbach nos ofrece una novela emblemát...</td>\n",
       "      <td>El Psicoanalista</td>\n",
       "      <td>Feliz aniversario, doctor. Bienvenido al prime...</td>\n",
       "      <td>feliz aniversario doctor bienvenido primer día...</td>\n",
       "    </tr>\n",
       "    <tr>\n",
       "      <th>4281</th>\n",
       "      <td>E.L. James</td>\n",
       "      <td>33995.0</td>\n",
       "      <td>34</td>\n",
       "      <td>FICCION</td>\n",
       "      <td>E.L. James nos ofrece una nueva perspectiva de...</td>\n",
       "      <td>NaN</td>\n",
       "      <td>1970-01-01 00:00:00.020150801</td>\n",
       "      <td>NOVELA</td>\n",
       "      <td>ES</td>\n",
       "      <td>9789502808260</td>\n",
       "      <td>...</td>\n",
       "      <td>15 X 23</td>\n",
       "      <td>648.0</td>\n",
       "      <td>http://static.megustaleer.com.ar/images/libros...</td>\n",
       "      <td>499.0</td>\n",
       "      <td>AR</td>\n",
       "      <td>GRIJALBO</td>\n",
       "      <td>Descubre el mundo de Cincuenta sombras de Grey...</td>\n",
       "      <td>Grey</td>\n",
       "      <td>E.L. James nos ofrece una nueva perspectiva de...</td>\n",
       "      <td>el james ofrece nueva perspectiva historia amo...</td>\n",
       "    </tr>\n",
       "  </tbody>\n",
       "</table>\n",
       "<p>2 rows × 21 columns</p>\n",
       "</div>"
      ],
      "text/plain": [
       "                autor  cod_autor  cod_sello_editorial coleccion  \\\n",
       "5052  John Katzenbach    34820.0                  200  LA TRAMA   \n",
       "4281       E.L. James    33995.0                   34   FICCION   \n",
       "\n",
       "                                             contratapa digital  \\\n",
       "5052  «Feliz aniversario, doctor. Bienvenido al prim...     NaN   \n",
       "4281  E.L. James nos ofrece una nueva perspectiva de...     NaN   \n",
       "\n",
       "                          fecha_nov genero_1 idioma           isbn  \\\n",
       "5052  1970-01-01 00:00:00.020090909  FICCION     ES  9788466642095   \n",
       "4281  1970-01-01 00:00:00.020150801   NOVELA     ES  9789502808260   \n",
       "\n",
       "                            ...                                    medidas  \\\n",
       "5052                        ...                          15.0 X 23.0 X 3.5   \n",
       "4281                        ...                                    15 X 23   \n",
       "\n",
       "     paginas                                            portada    pvp  \\\n",
       "5052   528.0  http://static.megustaleer.com.ar/images/libros...  529.0   \n",
       "4281   648.0  http://static.megustaleer.com.ar/images/libros...  499.0   \n",
       "\n",
       "      region sello_editorial  \\\n",
       "5052      AR     EDICIONES B   \n",
       "4281      AR        GRIJALBO   \n",
       "\n",
       "                                               sinopsis            titulo  \\\n",
       "5052  John Katzenbach nos ofrece una novela emblemát...  El Psicoanalista   \n",
       "4281  Descubre el mundo de Cincuenta sombras de Grey...              Grey   \n",
       "\n",
       "                                                  texto  \\\n",
       "5052  Feliz aniversario, doctor. Bienvenido al prime...   \n",
       "4281  E.L. James nos ofrece una nueva perspectiva de...   \n",
       "\n",
       "                                                 normal  \n",
       "5052  feliz aniversario doctor bienvenido primer día...  \n",
       "4281  el james ofrece nueva perspectiva historia amo...  \n",
       "\n",
       "[2 rows x 21 columns]"
      ]
     },
     "execution_count": 5,
     "metadata": {},
     "output_type": "execute_result"
    }
   ],
   "source": [
    "df.sample(2)"
   ]
  },
  {
   "cell_type": "code",
   "execution_count": 6,
   "metadata": {},
   "outputs": [
    {
     "data": {
      "text/plain": [
       "0    192.0\n",
       "dtype: float64"
      ]
     },
     "execution_count": 6,
     "metadata": {},
     "output_type": "execute_result"
    }
   ],
   "source": [
    "# Reemplazamos los null de las paginas por la moda\n",
    "df.paginas.mode()"
   ]
  },
  {
   "cell_type": "code",
   "execution_count": 7,
   "metadata": {},
   "outputs": [],
   "source": [
    "df['paginas'].fillna(192, inplace=True)"
   ]
  },
  {
   "cell_type": "code",
   "execution_count": 8,
   "metadata": {},
   "outputs": [],
   "source": [
    "# Corregimos las editoriales\n",
    "df['sello_editorial'].replace('DEBOLS!LLO','DEBOLSILLO', inplace=True)\n",
    "df['sello_editorial'].replace(['ALFAGUARA I.' ,'ALFAGUARA J.', 'ALFAGUARA INFANTIL JUVENIL', 'CLARIN-ALFAGUARA'], ['ALFAGUARA','ALFAGUARA','ALFAGUARA','ALFAGUARA'], inplace=True)\n",
    "df['sello_editorial'].replace(['SUDAMERICANA INFANTIL JUVENIL','SUDAMERICANA/ COPPPAL','SUDAMERICANA-EUDEBA'],['SUDAMERICANA','SUDAMERICANA','SUDAMERICANA'], inplace=True)\n",
    "df['sello_editorial'].replace(['LITERATURA RANDOM HOUSE','ANAGRAMA & LITERATURA RANDOM HOUSE','PENGUIN RANDOM HOUSE','PENGUIN CLÁSICOS'],['RANDOM','RANDOM','RANDOM','RANDOM'], inplace=True)\n",
    "df['sello_editorial'].replace('ORIGEN KIDS','ORIGEN', inplace = True)"
   ]
  },
  {
   "cell_type": "code",
   "execution_count": 9,
   "metadata": {},
   "outputs": [],
   "source": [
    "# Preprocesamos el sello para la dummy (notebook Diego)\n",
    "g = df.groupby('sello_editorial')\n",
    "df.loc[g['sello_editorial'].transform(lambda x: len(x) < 100).astype(bool), 'sello_editorial'] = 'OTROS SELLOS'"
   ]
  },
  {
   "cell_type": "code",
   "execution_count": 10,
   "metadata": {},
   "outputs": [
    {
     "data": {
      "text/plain": [
       "NOVELA                 1656\n",
       "ENSAYOS                1109\n",
       "INFANTILES              770\n",
       "OBRAS DIVERSAS          654\n",
       "NARRATIVA               565\n",
       "AUTOAYUDA               379\n",
       "BIOGRAFIAS              265\n",
       "JUVENILES               201\n",
       "CUENTOS                 199\n",
       "FICCION                 175\n",
       "NO FICCION               48\n",
       "SIN DET. ALFAGUARA       48\n",
       "LITERATURA               41\n",
       "GUIAS                    31\n",
       "POESIAS                  30\n",
       "CRONICA                  25\n",
       "ANTOLOGIAS               24\n",
       "HUMOR                    18\n",
       "ESPIRITUALIDAD           17\n",
       "AUTOBIOGRAFIA            14\n",
       "NEGOCIOS                 13\n",
       "PERIODISMO               13\n",
       "MEMORIAS                 13\n",
       "COCINA                   12\n",
       "INVESTIGACION            12\n",
       "DICCIONARIO              12\n",
       "EPISTOLAR                11\n",
       "OBRAS DE REFERENCIA      11\n",
       "COMICS                   10\n",
       "SIN DETERMINAR            6\n",
       "LIBROS ILUSTRADOS         5\n",
       "TEATRO                    5\n",
       "FOTOGRAFIAS               4\n",
       "ALBUMES                   3\n",
       "EDUCACION                 3\n",
       "ENTREVISTAS               3\n",
       "NOVELA ILUSTRADA          2\n",
       "DIARIO                    2\n",
       "COMIC                     2\n",
       "ESOTERISMO                2\n",
       "ECONOMIA                  1\n",
       "ARTE                      1\n",
       "ANIMALES                  1\n",
       "CIENCIA                   1\n",
       "SALUD                     1\n",
       "AFORISMO                  1\n",
       "Name: genero_1, dtype: int64"
      ]
     },
     "execution_count": 10,
     "metadata": {},
     "output_type": "execute_result"
    }
   ],
   "source": [
    "df.genero_1.value_counts()"
   ]
  },
  {
   "cell_type": "code",
   "execution_count": 11,
   "metadata": {},
   "outputs": [
    {
     "data": {
      "text/plain": [
       "NOVELA            1656\n",
       "ENSAYOS           1109\n",
       "INFANTILES         770\n",
       "OBRAS DIVERSAS     654\n",
       "NARRATIVA          565\n",
       "AUTOAYUDA          379\n",
       "BIOGRAFIAS         265\n",
       "JUVENILES          201\n",
       "CUENTOS            199\n",
       "FICCION            175\n",
       "Name: genero_1, dtype: int64"
      ]
     },
     "execution_count": 11,
     "metadata": {},
     "output_type": "execute_result"
    }
   ],
   "source": [
    "dft01 = df.groupby('genero_1').filter(lambda x: x['genero_1'].count() > 80)\n",
    "dft01.genero_1.value_counts()"
   ]
  },
  {
   "cell_type": "code",
   "execution_count": 12,
   "metadata": {},
   "outputs": [
    {
     "name": "stdout",
     "output_type": "stream",
     "text": [
      "<class 'pandas.core.frame.DataFrame'>\n",
      "Int64Index: 5973 entries, 0 to 7182\n",
      "Data columns (total 21 columns):\n",
      "autor                  5973 non-null object\n",
      "cod_autor              5973 non-null float64\n",
      "cod_sello_editorial    5973 non-null int64\n",
      "coleccion              5973 non-null object\n",
      "contratapa             5935 non-null object\n",
      "digital                2111 non-null object\n",
      "fecha_nov              5973 non-null object\n",
      "genero_1               5973 non-null object\n",
      "idioma                 5973 non-null object\n",
      "isbn                   5973 non-null object\n",
      "matnr                  5973 non-null object\n",
      "medidas                3841 non-null object\n",
      "paginas                5973 non-null float64\n",
      "portada                5973 non-null object\n",
      "pvp                    5973 non-null float64\n",
      "region                 5973 non-null object\n",
      "sello_editorial        5973 non-null object\n",
      "sinopsis               5973 non-null object\n",
      "titulo                 5973 non-null object\n",
      "texto                  5973 non-null object\n",
      "normal                 5973 non-null object\n",
      "dtypes: float64(3), int64(1), object(17)\n",
      "memory usage: 1.0+ MB\n"
     ]
    }
   ],
   "source": [
    "dft01.info()"
   ]
  },
  {
   "cell_type": "code",
   "execution_count": 13,
   "metadata": {},
   "outputs": [],
   "source": [
    "#dft02 = dft01[['sinopsis', 'titulo', 'texto', 'normal', 'genero_1']]\n",
    "dft02 = dft01[['sello_editorial', 'paginas', 'titulo', 'normal', 'genero_1']]"
   ]
  },
  {
   "cell_type": "code",
   "execution_count": 14,
   "metadata": {},
   "outputs": [],
   "source": [
    "dft04 = dft02[['sello_editorial', 'paginas', 'titulo', 'normal']]"
   ]
  },
  {
   "cell_type": "code",
   "execution_count": 15,
   "metadata": {},
   "outputs": [],
   "source": [
    "dft03 = pd.get_dummies(dft04,columns=['sello_editorial'])"
   ]
  },
  {
   "cell_type": "code",
   "execution_count": 16,
   "metadata": {},
   "outputs": [
    {
     "data": {
      "text/html": [
       "<div>\n",
       "<style scoped>\n",
       "    .dataframe tbody tr th:only-of-type {\n",
       "        vertical-align: middle;\n",
       "    }\n",
       "\n",
       "    .dataframe tbody tr th {\n",
       "        vertical-align: top;\n",
       "    }\n",
       "\n",
       "    .dataframe thead th {\n",
       "        text-align: right;\n",
       "    }\n",
       "</style>\n",
       "<table border=\"1\" class=\"dataframe\">\n",
       "  <thead>\n",
       "    <tr style=\"text-align: right;\">\n",
       "      <th></th>\n",
       "      <th>paginas</th>\n",
       "      <th>titulo</th>\n",
       "      <th>normal</th>\n",
       "      <th>sello_editorial_AGUILAR</th>\n",
       "      <th>sello_editorial_ALFAGUARA</th>\n",
       "      <th>sello_editorial_ALTEA</th>\n",
       "      <th>sello_editorial_DEBATE</th>\n",
       "      <th>sello_editorial_DEBOLSILLO</th>\n",
       "      <th>sello_editorial_GRIJALBO</th>\n",
       "      <th>sello_editorial_LUMEN</th>\n",
       "      <th>sello_editorial_MONDADORI</th>\n",
       "      <th>sello_editorial_MONTENA</th>\n",
       "      <th>sello_editorial_OTROS SELLOS</th>\n",
       "      <th>sello_editorial_PLAZA &amp; JANES</th>\n",
       "      <th>sello_editorial_RANDOM</th>\n",
       "      <th>sello_editorial_ROCA EDITORIAL</th>\n",
       "      <th>sello_editorial_SUDAMERICANA</th>\n",
       "      <th>sello_editorial_SUMA DE LETRAS</th>\n",
       "    </tr>\n",
       "  </thead>\n",
       "  <tbody>\n",
       "    <tr>\n",
       "      <th>475</th>\n",
       "      <td>222.0</td>\n",
       "      <td>Doce cuentos peregrinos</td>\n",
       "      <td>esfuerzo escribir cuento corto tan intenso emp...</td>\n",
       "      <td>0</td>\n",
       "      <td>0</td>\n",
       "      <td>0</td>\n",
       "      <td>0</td>\n",
       "      <td>1</td>\n",
       "      <td>0</td>\n",
       "      <td>0</td>\n",
       "      <td>0</td>\n",
       "      <td>0</td>\n",
       "      <td>0</td>\n",
       "      <td>0</td>\n",
       "      <td>0</td>\n",
       "      <td>0</td>\n",
       "      <td>0</td>\n",
       "      <td>0</td>\n",
       "    </tr>\n",
       "    <tr>\n",
       "      <th>1131</th>\n",
       "      <td>272.0</td>\n",
       "      <td>El examen</td>\n",
       "      <td>buenos aire viene ver hueso dijo anoche llegó ...</td>\n",
       "      <td>0</td>\n",
       "      <td>1</td>\n",
       "      <td>0</td>\n",
       "      <td>0</td>\n",
       "      <td>0</td>\n",
       "      <td>0</td>\n",
       "      <td>0</td>\n",
       "      <td>0</td>\n",
       "      <td>0</td>\n",
       "      <td>0</td>\n",
       "      <td>0</td>\n",
       "      <td>0</td>\n",
       "      <td>0</td>\n",
       "      <td>0</td>\n",
       "      <td>0</td>\n",
       "    </tr>\n",
       "  </tbody>\n",
       "</table>\n",
       "</div>"
      ],
      "text/plain": [
       "      paginas                   titulo  \\\n",
       "475     222.0  Doce cuentos peregrinos   \n",
       "1131    272.0                El examen   \n",
       "\n",
       "                                                 normal  \\\n",
       "475   esfuerzo escribir cuento corto tan intenso emp...   \n",
       "1131  buenos aire viene ver hueso dijo anoche llegó ...   \n",
       "\n",
       "      sello_editorial_AGUILAR  sello_editorial_ALFAGUARA  \\\n",
       "475                         0                          0   \n",
       "1131                        0                          1   \n",
       "\n",
       "      sello_editorial_ALTEA  sello_editorial_DEBATE  \\\n",
       "475                       0                       0   \n",
       "1131                      0                       0   \n",
       "\n",
       "      sello_editorial_DEBOLSILLO  sello_editorial_GRIJALBO  \\\n",
       "475                            1                         0   \n",
       "1131                           0                         0   \n",
       "\n",
       "      sello_editorial_LUMEN  sello_editorial_MONDADORI  \\\n",
       "475                       0                          0   \n",
       "1131                      0                          0   \n",
       "\n",
       "      sello_editorial_MONTENA  sello_editorial_OTROS SELLOS  \\\n",
       "475                         0                             0   \n",
       "1131                        0                             0   \n",
       "\n",
       "      sello_editorial_PLAZA & JANES  sello_editorial_RANDOM  \\\n",
       "475                               0                       0   \n",
       "1131                              0                       0   \n",
       "\n",
       "      sello_editorial_ROCA EDITORIAL  sello_editorial_SUDAMERICANA  \\\n",
       "475                                0                             0   \n",
       "1131                               0                             0   \n",
       "\n",
       "      sello_editorial_SUMA DE LETRAS  \n",
       "475                                0  \n",
       "1131                               0  "
      ]
     },
     "execution_count": 16,
     "metadata": {},
     "output_type": "execute_result"
    }
   ],
   "source": [
    "dft03.sample(2)"
   ]
  },
  {
   "cell_type": "code",
   "execution_count": 17,
   "metadata": {},
   "outputs": [
    {
     "name": "stdout",
     "output_type": "stream",
     "text": [
      "<class 'pandas.core.frame.DataFrame'>\n",
      "Int64Index: 5973 entries, 0 to 7182\n",
      "Data columns (total 18 columns):\n",
      "paginas                           5973 non-null float64\n",
      "titulo                            5973 non-null object\n",
      "normal                            5973 non-null object\n",
      "sello_editorial_AGUILAR           5973 non-null uint8\n",
      "sello_editorial_ALFAGUARA         5973 non-null uint8\n",
      "sello_editorial_ALTEA             5973 non-null uint8\n",
      "sello_editorial_DEBATE            5973 non-null uint8\n",
      "sello_editorial_DEBOLSILLO        5973 non-null uint8\n",
      "sello_editorial_GRIJALBO          5973 non-null uint8\n",
      "sello_editorial_LUMEN             5973 non-null uint8\n",
      "sello_editorial_MONDADORI         5973 non-null uint8\n",
      "sello_editorial_MONTENA           5973 non-null uint8\n",
      "sello_editorial_OTROS SELLOS      5973 non-null uint8\n",
      "sello_editorial_PLAZA & JANES     5973 non-null uint8\n",
      "sello_editorial_RANDOM            5973 non-null uint8\n",
      "sello_editorial_ROCA EDITORIAL    5973 non-null uint8\n",
      "sello_editorial_SUDAMERICANA      5973 non-null uint8\n",
      "sello_editorial_SUMA DE LETRAS    5973 non-null uint8\n",
      "dtypes: float64(1), object(2), uint8(15)\n",
      "memory usage: 274.2+ KB\n"
     ]
    }
   ],
   "source": [
    "dft03.info()"
   ]
  },
  {
   "cell_type": "code",
   "execution_count": 23,
   "metadata": {},
   "outputs": [],
   "source": [
    "dft06 = dft03[['paginas', 'sello_editorial_AGUILAR', 'sello_editorial_ALFAGUARA', 'sello_editorial_ALTEA',\n",
    "               'sello_editorial_DEBATE','sello_editorial_DEBOLSILLO', 'sello_editorial_GRIJALBO', \n",
    "               'sello_editorial_LUMEN', 'sello_editorial_MONDADORI', 'sello_editorial_MONTENA',\n",
    "               'sello_editorial_OTROS SELLOS', 'sello_editorial_PLAZA & JANES', 'sello_editorial_RANDOM',\n",
    "               'sello_editorial_ROCA EDITORIAL', 'sello_editorial_SUDAMERICANA', 'sello_editorial_SUMA DE LETRAS']]"
   ]
  },
  {
   "cell_type": "code",
   "execution_count": 26,
   "metadata": {},
   "outputs": [],
   "source": [
    "X_numbers = dft06.values"
   ]
  },
  {
   "cell_type": "code",
   "execution_count": 29,
   "metadata": {},
   "outputs": [],
   "source": [
    "X_3 = np.concatenate((X_1, X_numbers), axis=1) "
   ]
  },
  {
   "cell_type": "code",
   "execution_count": 18,
   "metadata": {},
   "outputs": [],
   "source": [
    "feature_def = gen_features(\n",
    "    columns=['titulo', 'normal'],\n",
    "    classes=[TfidfVectorizer]\n",
    ")"
   ]
  },
  {
   "cell_type": "code",
   "execution_count": null,
   "metadata": {},
   "outputs": [],
   "source": [
    "mapper3 = DataFrameMapper([\n",
    "    ('titulo', TfidfVectorizer()),\n",
    "    ('normal', TfidfVectorizer()),\n",
    "    ('paginas', None),\n",
    "    ('sello_editorial_AGUILAR', None),\n",
    "    ('sello_editorial_ALFAGUARA', None),\n",
    "    ('sello_editorial_ALTEA', None),\n",
    "    ('sello_editorial_DEBATE', None),\n",
    "    ('sello_editorial_DEBOLSILLO', None),\n",
    "    ('sello_editorial_GRIJALBO', None),\n",
    "    ('sello_editorial_LUMEN', None),\n",
    "    ('sello_editorial_MONDADORI', None),\n",
    "    ('sello_editorial_MONTENA', None),\n",
    "    ('sello_editorial_OTROS SELLOS', None),\n",
    "    ('sello_editorial_PLAZA & JANES', None),\n",
    "    ('sello_editorial_RANDOM', None),\n",
    "    ('sello_editorial_ROCA EDITORIAL', None),\n",
    "    ('sello_editorial_SUDAMERICANA', None),\n",
    "    ('sello_editorial_SUMA DE LETRAS', None)\n",
    "])"
   ]
  },
  {
   "cell_type": "code",
   "execution_count": 19,
   "metadata": {},
   "outputs": [
    {
     "data": {
      "text/plain": [
       "[('titulo',\n",
       "  [TfidfVectorizer(analyzer='word', binary=False, decode_error='strict',\n",
       "           dtype=<class 'numpy.int64'>, encoding='utf-8', input='content',\n",
       "           lowercase=True, max_df=1.0, max_features=None, min_df=1,\n",
       "           ngram_range=(1, 1), norm='l2', preprocessor=None, smooth_idf=True,\n",
       "           stop_words=None, strip_accents=None, sublinear_tf=False,\n",
       "           token_pattern='(?u)\\\\b\\\\w\\\\w+\\\\b', tokenizer=None, use_idf=True,\n",
       "           vocabulary=None)]),\n",
       " ('normal',\n",
       "  [TfidfVectorizer(analyzer='word', binary=False, decode_error='strict',\n",
       "           dtype=<class 'numpy.int64'>, encoding='utf-8', input='content',\n",
       "           lowercase=True, max_df=1.0, max_features=None, min_df=1,\n",
       "           ngram_range=(1, 1), norm='l2', preprocessor=None, smooth_idf=True,\n",
       "           stop_words=None, strip_accents=None, sublinear_tf=False,\n",
       "           token_pattern='(?u)\\\\b\\\\w\\\\w+\\\\b', tokenizer=None, use_idf=True,\n",
       "           vocabulary=None)])]"
      ]
     },
     "execution_count": 19,
     "metadata": {},
     "output_type": "execute_result"
    }
   ],
   "source": [
    "feature_def"
   ]
  },
  {
   "cell_type": "code",
   "execution_count": 20,
   "metadata": {},
   "outputs": [],
   "source": [
    "mapper5 = DataFrameMapper(feature_def)"
   ]
  },
  {
   "cell_type": "code",
   "execution_count": 21,
   "metadata": {},
   "outputs": [],
   "source": [
    "dft05 = dft03[['titulo', 'normal']]"
   ]
  },
  {
   "cell_type": "code",
   "execution_count": 22,
   "metadata": {},
   "outputs": [],
   "source": [
    "X_1 = mapper5.fit_transform(dft05)"
   ]
  },
  {
   "cell_type": "code",
   "execution_count": null,
   "metadata": {},
   "outputs": [],
   "source": [
    "X_2 = mapper3.fit_transform(dft03)"
   ]
  },
  {
   "cell_type": "code",
   "execution_count": 30,
   "metadata": {},
   "outputs": [],
   "source": [
    "feature = dft02['normal']\n",
    "vectorizer = TfidfVectorizer(min_df=5, ngram_range=(1, 3))\n",
    "f = vectorizer.fit_transform(feature)\n",
    "X = f"
   ]
  },
  {
   "cell_type": "code",
   "execution_count": 31,
   "metadata": {},
   "outputs": [],
   "source": [
    "y = dft02['genero_1']\n",
    "encoder = LabelEncoder()\n",
    "encoder.fit(y)\n",
    "encoded_y = encoder.transform(y)"
   ]
  },
  {
   "cell_type": "code",
   "execution_count": 32,
   "metadata": {},
   "outputs": [
    {
     "data": {
      "text/plain": [
       "array(['NOVELA', 'ENSAYOS', 'CUENTOS', 'FICCION', 'JUVENILES',\n",
       "       'INFANTILES', 'AUTOAYUDA', 'NARRATIVA', 'OBRAS DIVERSAS',\n",
       "       'BIOGRAFIAS'], dtype=object)"
      ]
     },
     "execution_count": 32,
     "metadata": {},
     "output_type": "execute_result"
    }
   ],
   "source": [
    "y_cat = y.unique()\n",
    "y_cat"
   ]
  },
  {
   "cell_type": "code",
   "execution_count": null,
   "metadata": {},
   "outputs": [],
   "source": [
    "# split data into X and y\n",
    "seed = 7\n",
    "test_size = 0.2\n",
    "X_train, X_test, y_train, y_test = train_test_split(X, encoded_y, test_size=test_size, random_state=seed)"
   ]
  },
  {
   "cell_type": "code",
   "execution_count": null,
   "metadata": {},
   "outputs": [],
   "source": [
    "print(X_train.shape)\n",
    "print(X_test.shape)\n",
    "print(y_train.shape)\n",
    "print(y_test.shape)"
   ]
  },
  {
   "cell_type": "code",
   "execution_count": 34,
   "metadata": {},
   "outputs": [],
   "source": [
    "one_to_left = st.beta(10, 1)"
   ]
  },
  {
   "cell_type": "code",
   "execution_count": 35,
   "metadata": {},
   "outputs": [],
   "source": [
    "params = {\n",
    "    \"n_estimators\": st.randint(100,400), # Number of boosted trees to fit.\n",
    "#    \"n_estimators\": st.randint(5,10),\n",
    "    \"max_depth\": st.randint(3, 12),     # Maximum tree depth for base learners.\n",
    "    \"learning_rate\": st.uniform(0.05, 0.4), #     Boosting learning rate (xgb’s “eta”)\n",
    "    \"colsample_bytree\": one_to_left, #      Subsample ratio of columns when constructing each tree.\n",
    "    \"subsample\": one_to_left,     # Subsample ratio of the training instance.\n",
    "    \"gamma\": st.uniform(0, 10), #     Minimum loss reduction required to make a further partition on a leaf node of the tree.\n",
    "    'reg_alpha': st.uniform(0.05,10),   # L1 regularization term on weights\n",
    "    \"min_child_weight\": st.uniform(1,20), #    Minimum sum of instance weight(hessian) needed in a child.\n",
    "}"
   ]
  },
  {
   "cell_type": "code",
   "execution_count": null,
   "metadata": {},
   "outputs": [],
   "source": [
    "# Model #01 LightGBM_normal\n",
    "model_01 = lgb.LGBMClassifier()\n",
    "lgbm = RandomizedSearchCV(model_01, params, n_iter = 25, verbose=1)"
   ]
  },
  {
   "cell_type": "code",
   "execution_count": null,
   "metadata": {},
   "outputs": [],
   "source": [
    "start = time.time()\n",
    "lgbm.fit(X_train, y_train)\n",
    "end = time.time()\n",
    "print(\"La búsqueda con LightGBM llevó: \", end - start, \" segundos\")"
   ]
  },
  {
   "cell_type": "code",
   "execution_count": null,
   "metadata": {},
   "outputs": [],
   "source": [
    "print(lgbm)"
   ]
  },
  {
   "cell_type": "code",
   "execution_count": null,
   "metadata": {},
   "outputs": [],
   "source": [
    "opt_lgbm = lgbm.best_estimator_\n",
    "opt_lgbm"
   ]
  },
  {
   "cell_type": "code",
   "execution_count": null,
   "metadata": {},
   "outputs": [],
   "source": [
    "predicted01 = lgbm.predict(X_test)"
   ]
  },
  {
   "cell_type": "code",
   "execution_count": null,
   "metadata": {},
   "outputs": [],
   "source": [
    "precision_score(y_test, predicted01, average='weighted')"
   ]
  },
  {
   "cell_type": "code",
   "execution_count": null,
   "metadata": {},
   "outputs": [],
   "source": [
    "report = classification_report(y_test, predicted01)\n",
    "print(report)"
   ]
  },
  {
   "cell_type": "code",
   "execution_count": null,
   "metadata": {},
   "outputs": [],
   "source": [
    "print('Accuracy: %.2f%%' % (accuracy_score(y_test, predicted01) * 100))"
   ]
  },
  {
   "cell_type": "code",
   "execution_count": null,
   "metadata": {},
   "outputs": [],
   "source": [
    "cats = y.unique().tolist()"
   ]
  },
  {
   "cell_type": "code",
   "execution_count": null,
   "metadata": {},
   "outputs": [],
   "source": [
    "print(classification_report(y_test, predicted01, target_names=cats))"
   ]
  },
  {
   "cell_type": "code",
   "execution_count": null,
   "metadata": {},
   "outputs": [],
   "source": [
    "mat = confusion_matrix(y_test, predicted01)\n",
    "sns.heatmap(mat.T, square=True, annot=True, fmt='d', cbar=False,\n",
    "            xticklabels=cats,\n",
    "            yticklabels=cats)\n",
    "plt.xlabel('true label')\n",
    "plt.ylabel('predicted label');"
   ]
  },
  {
   "cell_type": "code",
   "execution_count": null,
   "metadata": {},
   "outputs": [],
   "source": [
    "# Model #02 LightGBM_normal_titulo\n",
    "model_02 = lgb.LGBMClassifier()\n",
    "lgbm_02 = RandomizedSearchCV(model_02, params, n_iter = 25, verbose=1)"
   ]
  },
  {
   "cell_type": "code",
   "execution_count": null,
   "metadata": {},
   "outputs": [],
   "source": [
    "# split data into X and y para Model02\n",
    "seed = 7\n",
    "test_size = 0.2\n",
    "X_train02, X_test02, y_train02, y_test02 = train_test_split(X_1, encoded_y, test_size=test_size, random_state=seed)"
   ]
  },
  {
   "cell_type": "code",
   "execution_count": null,
   "metadata": {},
   "outputs": [],
   "source": [
    "start = time.time()\n",
    "lgbm_02.fit(X_train02, y_train02)\n",
    "end = time.time()\n",
    "print(\"La búsqueda con LightGBM llevó: \", end - start, \" segundos\")"
   ]
  },
  {
   "cell_type": "code",
   "execution_count": null,
   "metadata": {},
   "outputs": [],
   "source": [
    "opt_lgbm_02 = lgbm_02.best_estimator_\n",
    "opt_lgbm_02"
   ]
  },
  {
   "cell_type": "code",
   "execution_count": null,
   "metadata": {},
   "outputs": [],
   "source": [
    "predicted02 = lgbm_02.predict(X_test02)"
   ]
  },
  {
   "cell_type": "code",
   "execution_count": null,
   "metadata": {},
   "outputs": [],
   "source": [
    "precision_score(y_test02, predicted02, average='weighted')"
   ]
  },
  {
   "cell_type": "code",
   "execution_count": null,
   "metadata": {},
   "outputs": [],
   "source": [
    "report_02 = classification_report(y_test02, predicted02)\n",
    "print(report_02)"
   ]
  },
  {
   "cell_type": "code",
   "execution_count": null,
   "metadata": {},
   "outputs": [],
   "source": [
    "print('Accuracy: %.2f%%' % (accuracy_score(y_test02, predicted02) * 100))"
   ]
  },
  {
   "cell_type": "code",
   "execution_count": null,
   "metadata": {},
   "outputs": [],
   "source": [
    "print('Accuracy: %.2f%%' % (accuracy_score(y_test02, predicted02) * 100))"
   ]
  },
  {
   "cell_type": "code",
   "execution_count": null,
   "metadata": {},
   "outputs": [],
   "source": [
    "print(classification_report(y_test02, predicted02, target_names=cats))"
   ]
  },
  {
   "cell_type": "code",
   "execution_count": null,
   "metadata": {},
   "outputs": [],
   "source": [
    "mat = confusion_matrix(y_test02, predicted02)\n",
    "sns.heatmap(mat.T, square=True, annot=True, fmt='d', cbar=False,\n",
    "            xticklabels=cats,\n",
    "            yticklabels=cats)\n",
    "plt.xlabel('true label')\n",
    "plt.ylabel('predicted label');"
   ]
  },
  {
   "cell_type": "code",
   "execution_count": 36,
   "metadata": {},
   "outputs": [],
   "source": [
    "# Model #03 LightGBM_normal_titulo_features_numbers\n",
    "model_03 = lgb.LGBMClassifier()\n",
    "lgbm_03 = RandomizedSearchCV(model_03, params, n_iter = 25, verbose=1)"
   ]
  },
  {
   "cell_type": "code",
   "execution_count": 38,
   "metadata": {},
   "outputs": [
    {
     "ename": "MemoryError",
     "evalue": "",
     "output_type": "error",
     "traceback": [
      "\u001b[0;31m---------------------------------------------------------------------------\u001b[0m",
      "\u001b[0;31mMemoryError\u001b[0m                               Traceback (most recent call last)",
      "\u001b[0;32m<ipython-input-38-8deb1a61bfdc>\u001b[0m in \u001b[0;36m<module>\u001b[0;34m()\u001b[0m\n\u001b[1;32m      2\u001b[0m \u001b[0mseed\u001b[0m \u001b[0;34m=\u001b[0m \u001b[0;36m7\u001b[0m\u001b[0;34m\u001b[0m\u001b[0m\n\u001b[1;32m      3\u001b[0m \u001b[0mtest_size\u001b[0m \u001b[0;34m=\u001b[0m \u001b[0;36m0.2\u001b[0m\u001b[0;34m\u001b[0m\u001b[0m\n\u001b[0;32m----> 4\u001b[0;31m \u001b[0mX_train03\u001b[0m\u001b[0;34m,\u001b[0m \u001b[0mX_test03\u001b[0m\u001b[0;34m,\u001b[0m \u001b[0my_train03\u001b[0m\u001b[0;34m,\u001b[0m \u001b[0my_test03\u001b[0m \u001b[0;34m=\u001b[0m \u001b[0mtrain_test_split\u001b[0m\u001b[0;34m(\u001b[0m\u001b[0mX_3\u001b[0m\u001b[0;34m,\u001b[0m \u001b[0mencoded_y\u001b[0m\u001b[0;34m,\u001b[0m \u001b[0mtest_size\u001b[0m\u001b[0;34m=\u001b[0m\u001b[0mtest_size\u001b[0m\u001b[0;34m,\u001b[0m \u001b[0mrandom_state\u001b[0m\u001b[0;34m=\u001b[0m\u001b[0mseed\u001b[0m\u001b[0;34m)\u001b[0m\u001b[0;34m\u001b[0m\u001b[0m\n\u001b[0m",
      "\u001b[0;32m~/.local/lib/python3.5/site-packages/sklearn/model_selection/_split.py\u001b[0m in \u001b[0;36mtrain_test_split\u001b[0;34m(*arrays, **options)\u001b[0m\n\u001b[1;32m   2057\u001b[0m \u001b[0;34m\u001b[0m\u001b[0m\n\u001b[1;32m   2058\u001b[0m     return list(chain.from_iterable((safe_indexing(a, train),\n\u001b[0;32m-> 2059\u001b[0;31m                                      safe_indexing(a, test)) for a in arrays))\n\u001b[0m\u001b[1;32m   2060\u001b[0m \u001b[0;34m\u001b[0m\u001b[0m\n\u001b[1;32m   2061\u001b[0m \u001b[0;34m\u001b[0m\u001b[0m\n",
      "\u001b[0;32m~/.local/lib/python3.5/site-packages/sklearn/model_selection/_split.py\u001b[0m in \u001b[0;36m<genexpr>\u001b[0;34m(.0)\u001b[0m\n\u001b[1;32m   2057\u001b[0m \u001b[0;34m\u001b[0m\u001b[0m\n\u001b[1;32m   2058\u001b[0m     return list(chain.from_iterable((safe_indexing(a, train),\n\u001b[0;32m-> 2059\u001b[0;31m                                      safe_indexing(a, test)) for a in arrays))\n\u001b[0m\u001b[1;32m   2060\u001b[0m \u001b[0;34m\u001b[0m\u001b[0m\n\u001b[1;32m   2061\u001b[0m \u001b[0;34m\u001b[0m\u001b[0m\n",
      "\u001b[0;32m~/.local/lib/python3.5/site-packages/sklearn/utils/__init__.py\u001b[0m in \u001b[0;36msafe_indexing\u001b[0;34m(X, indices)\u001b[0m\n\u001b[1;32m    158\u001b[0m                                    indices.dtype.kind == 'i'):\n\u001b[1;32m    159\u001b[0m             \u001b[0;31m# This is often substantially faster than X[indices]\u001b[0m\u001b[0;34m\u001b[0m\u001b[0;34m\u001b[0m\u001b[0m\n\u001b[0;32m--> 160\u001b[0;31m             \u001b[0;32mreturn\u001b[0m \u001b[0mX\u001b[0m\u001b[0;34m.\u001b[0m\u001b[0mtake\u001b[0m\u001b[0;34m(\u001b[0m\u001b[0mindices\u001b[0m\u001b[0;34m,\u001b[0m \u001b[0maxis\u001b[0m\u001b[0;34m=\u001b[0m\u001b[0;36m0\u001b[0m\u001b[0;34m)\u001b[0m\u001b[0;34m\u001b[0m\u001b[0m\n\u001b[0m\u001b[1;32m    161\u001b[0m         \u001b[0;32melse\u001b[0m\u001b[0;34m:\u001b[0m\u001b[0;34m\u001b[0m\u001b[0m\n\u001b[1;32m    162\u001b[0m             \u001b[0;32mreturn\u001b[0m \u001b[0mX\u001b[0m\u001b[0;34m[\u001b[0m\u001b[0mindices\u001b[0m\u001b[0;34m]\u001b[0m\u001b[0;34m\u001b[0m\u001b[0m\n",
      "\u001b[0;31mMemoryError\u001b[0m: "
     ]
    }
   ],
   "source": [
    "# split data into X and y para Model02\n",
    "seed = 7\n",
    "test_size = 0.2\n",
    "X_train03, X_test03, y_train03, y_test03 = train_test_split(X_3, encoded_y, test_size=test_size, random_state=seed)"
   ]
  },
  {
   "cell_type": "code",
   "execution_count": null,
   "metadata": {},
   "outputs": [],
   "source": [
    "print(X_train03.shape)\n",
    "print(X_test03.shape)\n",
    "print(y_train03.shape)\n",
    "print(y_test03.shape)"
   ]
  },
  {
   "cell_type": "code",
   "execution_count": null,
   "metadata": {},
   "outputs": [],
   "source": [
    "start = time.time()\n",
    "lgbm_03.fit(X_train03, y_train03)\n",
    "end = time.time()\n",
    "print(\"La búsqueda con LightGBM llevó: \", end - start, \" segundos\")"
   ]
  },
  {
   "cell_type": "code",
   "execution_count": null,
   "metadata": {},
   "outputs": [],
   "source": []
  }
 ],
 "metadata": {
  "kernelspec": {
   "display_name": "Python 3",
   "language": "python",
   "name": "python3"
  },
  "language_info": {
   "codemirror_mode": {
    "name": "ipython",
    "version": 3
   },
   "file_extension": ".py",
   "mimetype": "text/x-python",
   "name": "python",
   "nbconvert_exporter": "python",
   "pygments_lexer": "ipython3",
   "version": "3.5.3"
  },
  "varInspector": {
   "cols": {
    "lenName": 16,
    "lenType": 16,
    "lenVar": 40
   },
   "kernels_config": {
    "python": {
     "delete_cmd_postfix": "",
     "delete_cmd_prefix": "del ",
     "library": "var_list.py",
     "varRefreshCmd": "print(var_dic_list())"
    },
    "r": {
     "delete_cmd_postfix": ") ",
     "delete_cmd_prefix": "rm(",
     "library": "var_list.r",
     "varRefreshCmd": "cat(var_dic_list()) "
    }
   },
   "types_to_exclude": [
    "module",
    "function",
    "builtin_function_or_method",
    "instance",
    "_Feature"
   ],
   "window_display": false
  }
 },
 "nbformat": 4,
 "nbformat_minor": 2
}
